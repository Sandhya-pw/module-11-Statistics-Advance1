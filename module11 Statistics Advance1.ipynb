{
  "nbformat": 4,
  "nbformat_minor": 0,
  "metadata": {
    "colab": {
      "provenance": []
    },
    "kernelspec": {
      "name": "python3",
      "display_name": "Python 3"
    },
    "language_info": {
      "name": "python"
    }
  },
  "cells": [
    {
      "cell_type": "code",
      "execution_count": null,
      "metadata": {
        "id": "3602XX6bjVL0"
      },
      "outputs": [],
      "source": [
        "# 1. What is a random variable in probability theory?\n",
        "'''In probability theory, a random variable is a numerical outcome of a random phenomenon or experiment.\n",
        "It is a function that assigns a real number to each possible outcome in the sample space of a random experiment.'''"
      ]
    },
    {
      "cell_type": "code",
      "source": [
        "# 2. What are the types of random variables?\n",
        "'''Types:\n",
        "\n",
        "Discrete Random Variable: This type can take on a countable number of distinct values.\n",
        "eg.,number of customers arriving at a store in an hour.\n",
        "\n",
        "Continuous Random Variable: This type can take any value within a given range or interval.\n",
        "eg.,the time it takes for a customer to finish shopping.'''"
      ],
      "metadata": {
        "id": "Fni9Jye-lOU2"
      },
      "execution_count": null,
      "outputs": []
    },
    {
      "cell_type": "code",
      "source": [
        "# 3. What is the difference between discrete and continuous distributions?\n",
        "'''Discrete Distribution:\n",
        "Deals with countable values.\n",
        "The variable can take only specific, separate values (often integers).\n",
        "Eg: Number of students in a class.\n",
        "Probability Mass Function (PMF): Gives the probability that the variable equals a specific value\n",
        "Bar graph showing discrete probabilities\n",
        "Common distributions: Binomial, Poisson, Geometric.\n",
        "Probability at point is Non-zero.\n",
        "\n",
        "Continuous Distribution:\n",
        "Deals with uncountable values (often real numbers).\n",
        "The variable can take any value in a range (within limits).\n",
        "Eg: Height.\n",
        "Probability Density Function (PDF): Gives the density at a point. Probability is obtained over an interval.\n",
        "Smooth curve showing density across range.\n",
        "Common distributions: Normal, Exponential, Uniform (continuous).\n",
        "Probability at point is Always zero,  since it’s a density, not direct probability'''"
      ],
      "metadata": {
        "id": "podPAxmblOk3"
      },
      "execution_count": null,
      "outputs": []
    },
    {
      "cell_type": "code",
      "source": [
        "# 4. What are probability distribution functions (PDF)?\n",
        "'''A Probability Distribution Function (PDF) describes how the probabilities are distributed over the values of a random variable.\n",
        "and the area under the curve represents the total probability, which is always 1.\n",
        "It tells us the likelihood of different outcomes occurring. The term PDF is usually used for continuous random variables.'''"
      ],
      "metadata": {
        "id": "hrDoOAfklOuw"
      },
      "execution_count": null,
      "outputs": []
    },
    {
      "cell_type": "code",
      "source": [
        "# 5. How do cumulative distribution functions (CDF) differ from probability distribution functions (PDF)?\n",
        "''' Probability Distribution Function (PDF):\n",
        "A PDF gives the probability of a random variable taking on a specific value.\n",
        "It focuses on the likelihood of each individual outcome.\n",
        "It is used to describe the distribution of continuous random variables.\n",
        "\n",
        "Cumulative Distribution Function (CDF):\n",
        "A CDF tells us the cumulative probability of a random variable being less than or equal to a certain value.\n",
        "It gives the probability that the random variable is below a certain point.\n",
        "It is used to describe the cumulative probability over a range of values, rather than just individual values.'''"
      ],
      "metadata": {
        "id": "4irVXaaXlOwp"
      },
      "execution_count": null,
      "outputs": []
    },
    {
      "cell_type": "code",
      "source": [
        "# 6. What is a discrete uniform distribution?\n",
        "'''A Discrete Uniform Distribution is a type of probability distribution\n",
        "where each possible outcome of a discrete random variable has an equal probability of occurring.\n",
        "eg. rolling a dice, the probability of rolling any number (1 to 6) is the same (1/6).'''"
      ],
      "metadata": {
        "id": "RUBLm2ZGlO2U"
      },
      "execution_count": null,
      "outputs": []
    },
    {
      "cell_type": "code",
      "source": [
        "# 7. What are the key properties of a Bernoulli distribution?\n",
        "'''1.Binary Outcomes:\n",
        "A Bernoulli distribution represents experiments with two possible outcomes. These outcomes are typically labeled as success (1) and failure (0).\n",
        "eg. flipping a coin (heads or tails)\n",
        "2. The probability of success (outcome 1) is denoted by p.\n",
        "The probability of failure (outcome 0) is denoted by 1 - p.\n",
        "3. The mean (or expected value, average outcome in many trials) of a Bernoulli random variable 𝑋, is simply the probability of success (p): E(X)=p\n",
        "4.The variance (measures the spread or variability) of a Bernoulli random variable 𝑋 is given by: Var(X)=p(1−p).\n",
        "5.The random variable 𝑋 in a Bernoulli distribution takes only two values: 0 and 1, (the set of possible values) is {0,1}.\n",
        "6.When, 𝑝=0.5, the distribution is symmetric, probabilities of success and failure are equal.\n",
        "7. A Bernoulli distribution is actually a special case of the Binomial distribution with n = 1 (one trial).'''"
      ],
      "metadata": {
        "id": "Z5n7wdValO4L"
      },
      "execution_count": null,
      "outputs": []
    },
    {
      "cell_type": "code",
      "source": [
        "# 8. What is the binomial distribution, and how is it used in probability?\n",
        "'''The Binomial Distribution models the probability of getting a specific number of successes in a fixed number of independent trials,\n",
        "each with two possible outcomes (success or failure).\n",
        "It is used in probability for determining likelihood of outcomes, like getting 3 heads in 5 coin tosses.'''\n"
      ],
      "metadata": {
        "id": "wjr_COYklO9q"
      },
      "execution_count": null,
      "outputs": []
    },
    {
      "cell_type": "code",
      "source": [
        "# 9. What is the Poisson distribution and where is it applied?\n",
        "'''The Poisson distribution is a discrete probability distribution that models the number of events occurring within a fixed interval of time or space,\n",
        "under the condition that these events happen independently and at a constant average rate.\n",
        "\n",
        "Common applications include:\n",
        "1.Traffic Flow: Modeling the number of cars passing through a toll booth in an hour.\n",
        "2.Call Centers: Modeling the number of incoming calls per minute.\n",
        "3.Natural Events: Modeling the number of earthquakes in a region within a year.\n",
        "4.Medical: Modeling the number of patient arrivals at a hospital emergency room in a day.'''"
      ],
      "metadata": {
        "id": "EF5ZPb2flO_i"
      },
      "execution_count": null,
      "outputs": []
    },
    {
      "cell_type": "code",
      "source": [
        "# 10. What is a continuous uniform distribution?\n",
        "'''A Continuous Uniform Distribution is a probability distribution where all outcomes within a given range are equally likely to occur.\n",
        "It is defined over a continuous interval, meaning that any value within that interval has an equal probability of being observed.'''"
      ],
      "metadata": {
        "id": "1SbJg6pylPE5"
      },
      "execution_count": null,
      "outputs": []
    },
    {
      "cell_type": "code",
      "source": [
        "# 11. What are the characteristics of a normal distribution?\n",
        "'''TThe Normal Distribution is a symmetric, bell-shaped curve that describes how data values are spread around a mean.\n",
        "\n",
        "Its key characteristics are:\n",
        "Symmetry: The curve is identical on both sides of the mean.\n",
        "Mean, Median, Mode: All are equal and located at the center.\n",
        "Defined by Mean (μ) and Standard Deviation (σ): These two parameters determine the location and spread of the distribution.\n",
        "68-95-99.7 Rule: 68% of data falls within 1 standard deviation, 95% within 2, and 99.7% within 3.\n",
        "Asymptotic: The curve never touches the x-axis.\n",
        "Total Area = 1: The area under the curve equals 1, representing 100% probability.\n",
        "\n",
        "It's used to model things like height, test scores, and errors in measurements.'''"
      ],
      "metadata": {
        "id": "jghn61X7lPHC"
      },
      "execution_count": null,
      "outputs": []
    },
    {
      "cell_type": "code",
      "source": [
        "# 12. What is the standard normal distribution, and why is it important?\n",
        "'''The Standard Normal Distribution is a normal distribution with mean 0 and standard deviation 1.\n",
        "\n",
        "It’s important because it simplifies calculations,\n",
        "helps in comparing values using Z-scores,\n",
        "and is widely used in statistics like hypothesis testing and confidence intervals.'''"
      ],
      "metadata": {
        "id": "KfMzy4E6lPM4"
      },
      "execution_count": null,
      "outputs": []
    },
    {
      "cell_type": "code",
      "source": [
        "# 13. What is the Central Limit Theorem (CLT), and why is it critical in statistics?\n",
        "'''It states that the sampling distribution of the sample mean approaches a normal distribution\n",
        " as the sample size becomes large, regardless of the population's original distribution.\n",
        "\n",
        "Importantance:\n",
        "Allows use of normal distribution in many real-world problems.\n",
        "Enables accurate confidence intervals and hypothesis testing even when data isn't normally distributed.'''"
      ],
      "metadata": {
        "id": "93YzN-zplPOy"
      },
      "execution_count": null,
      "outputs": []
    },
    {
      "cell_type": "code",
      "source": [
        "# 14. How does the Central Limit Theorem relate to the normal distribution?\n",
        "'''The Central Limit Theorem says no matter the shape of the original population distribution,\n",
        " the distribution of sample means will approximate a normal distribution as the sample size increases (usually n≥30).\n",
        "\n",
        "It connects to the normal distribution by allowing us to use normal-based methods (like Z-scores) in many statistical analyses.'''"
      ],
      "metadata": {
        "id": "F6f5m4cclPUj"
      },
      "execution_count": null,
      "outputs": []
    },
    {
      "cell_type": "code",
      "source": [
        "# 15. What is the application of Z statistics in hypothesis testing?\n",
        "'''Z-statistics is used in hypothesis testing to determine how far a sample mean is from the population mean in terms of standard deviations.\n",
        "\n",
        "Applications:\n",
        "Testing population means when population standard deviation is known.\n",
        "Comparing sample and population values.\n",
        "Calculating p-values to decide whether to reject the null hypothesis.'''"
      ],
      "metadata": {
        "id": "gkVKkH1xlPWc"
      },
      "execution_count": null,
      "outputs": []
    },
    {
      "cell_type": "code",
      "source": [
        "# 16. How do you calculate a Z-score, and what does it represent?\n",
        "''' Formula: Z= X−μ/σ\n",
        "Where:\n",
        "X = observed value\n",
        "μ = population mean\n",
        "σ = population standard deviation\n",
        "\n",
        "A Z-score tells how many standard deviations a value X is from the mean.\n",
        "Z = 0 → value is at the mean\n",
        "Z > 0 → value is above the mean\n",
        "Z < 0 → value is below the mean'''"
      ],
      "metadata": {
        "id": "k2ceJ7lZlPcG"
      },
      "execution_count": null,
      "outputs": []
    },
    {
      "cell_type": "code",
      "source": [
        "# 17. What are point estimates and interval estimates in statistics?\n",
        "''' Point Estimate:\n",
        "A single value used to estimate a population parameter.\n",
        "Example: Sample mean (𝑥) used to estimate population mean (μ).\n",
        "\n",
        "Interval Estimate:\n",
        "A range of values (with a confidence level) used to estimate a population parameter.\n",
        "Example: The population mean is between 48 and 52 with 95% confidence.'''"
      ],
      "metadata": {
        "id": "rSrMPTy_lPd-"
      },
      "execution_count": null,
      "outputs": []
    },
    {
      "cell_type": "code",
      "source": [
        "# 18. What is the significance of confidence intervals in statistical analysis?\n",
        "'''Confidence intervals show the range within which a population parameter is likely to fall,\n",
        "based on sample data, with a certain level of confidence (e.g., 95%).\n",
        "\n",
        "Significance:\n",
        "Gives a measure of accuracy for estimates.\n",
        "Helps understand uncertainty in sample results.\n",
        "Widely used in decision-making and hypothesis testing.'''"
      ],
      "metadata": {
        "id": "MQh--ZbElPjo"
      },
      "execution_count": null,
      "outputs": []
    },
    {
      "cell_type": "code",
      "source": [
        "# 19. What is the relationship between a Z-score and a confidence interval?\n",
        "'''The Z-score determines how far you go from the sample mean to build a confidence interval for a population parameter (like the mean),\n",
        "assuming the data is normally distributed.'''"
      ],
      "metadata": {
        "id": "qfR_nAFRlPlh"
      },
      "execution_count": null,
      "outputs": []
    },
    {
      "cell_type": "code",
      "source": [
        "# 20. How are Z-scores used to compare different distributions?\n",
        "'''Z-scores allow us to compare values from different distributions by standardizing them,\n",
        "i.e., converting them to a common scale, regardless of the original distributions’ mean and standard deviation.\n",
        "\n",
        "Consistent Metric: Z-scores transform data to a standard normal distribution\n",
        "(mean = 0, standard deviation = 1), making comparisons easier.'''"
      ],
      "metadata": {
        "id": "up0TM-Y-lPrU"
      },
      "execution_count": null,
      "outputs": []
    },
    {
      "cell_type": "code",
      "source": [
        "# 21. What are the assumptions for applying the Central Limit Theorem?\n",
        "''' Assumptions:\n",
        "1.Independence: The sampled data points must be independent of each other.\n",
        "2.Random Sampling: The data must be randomly sampled from the population.\n",
        "3.Sample Size:\n",
        "For large populations, sample size n≥30 is usually considered sufficient.\n",
        "If the population is skewed or non-normal, a larger sample size may be needed for the CLT to hold.\n",
        "4.Identical Distribution: All samples should come from the same population with the same distribution.'''"
      ],
      "metadata": {
        "id": "vPk5MgwMlPtP"
      },
      "execution_count": null,
      "outputs": []
    },
    {
      "cell_type": "code",
      "source": [
        "# 22. What is the concept of expected value in a probability distribution?\n",
        "'''The expected value (EV), also known as the mean or expectation, is the average or \"central\" value of a random variable in a probability distribution.\n",
        "It represents the long-term average outcome that can be expected from an experiment or process if it were repeated many times.\n",
        "\n",
        "eg, the expected value of rolling a fair die is 3.5, even though we can never roll a 3.5 — it's the average outcome if rolled the die many times.\n",
        "which means, over many rolls, the average result will be close to 3.5.'''"
      ],
      "metadata": {
        "id": "_ETs7LNBlPyh"
      },
      "execution_count": null,
      "outputs": []
    },
    {
      "cell_type": "code",
      "source": [
        "# 23. How does a probability distribution relate to the expected outcome of a random variable?\n",
        "'''The probability distribution describes all the possible outcomes and their probabilities,\n",
        "and the expected value is the average outcome expected from those possibilities, considering their probabilities.'''"
      ],
      "metadata": {
        "id": "pCdSIpOmlu1d"
      },
      "execution_count": null,
      "outputs": []
    }
  ]
}